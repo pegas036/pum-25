{
 "cells": [
  {
   "cell_type": "markdown",
   "id": "b149bdbd36e087ee",
   "metadata": {
    "collapsed": true,
    "jupyter": {
     "outputs_hidden": true
    }
   },
   "source": [
    "# Introduction to\n",
    "\n",
    "<p>\n",
    "    <center>\n",
    "    <img src=\"imgs/python-logo.png\", width=300>\n",
    "    </center>\n",
    "</p>\n",
    "\n",
    "\n",
    "**Python** is an excellent programming language for data science, scientific computations, machine learning, statistics, and many other applications. During this course, we will be polishing up our Python skills specifically on **data handling and ML-related tasks.**\n",
    "\n",
    "> **Python standard library** is a collection of basic functions that always come pre-installed with Python. Think of it as a with a hammer, a screwdriver, and some zipties. Those tools you can absolutely use to build something useful, but it will probably take you some time and effort. The standard library is exactly what you learn during the basic Python courses.\n",
    "\n",
    "> A python **package** is a collection of useful functions and methods that allow you to perform many interesting tasks without writing your code from scratch. Packages are created by the Python community (which includes you and me) and have to be installed separately. You can think of a package as an electric drill. Someone has already done the hard work of building the drill, and now you can use it to make holes in the wall much faster than if you were to do it by hand. In this course, we will be using packages built for easy data manipulation, visualization, and machine learning.\n",
    "\n",
    "There is a choice of many ML and data-related Python packages. Some of the most popular ones (Numpy, Pandas, Matplotlib, Seaborn, Scikit-learn, PyTorch) are already installed in the conda environment we use, and will be introduced during the next labs.\n",
    "\n",
    "## Reading - *Automate the Boring Stuff with Python*\n",
    "\n",
    "The Python textbook we will be referencing during our course will be the famous *Automate the Boring Stuff with Python* by Al Sweigart, with a particular focus on chapters 1-12. The book is available online for free at:\n",
    "\n",
    "https://automatetheboringstuff.com/\n",
    "\n",
    "The website is structured in such a way that you can quickly find and study the topic you are interested in. You can use it as a reference during the course, having it open in a separate tab while you are working on your assignments. All the exercises below can be solved using the knowledge from the first few chapters of the textbook.\n",
    "\n",
    "---"
   ]
  },
  {
   "cell_type": "markdown",
   "id": "5a415eb454f8809a",
   "metadata": {},
   "source": [
    "## Exercise 1: Python data structures (4 points)\n",
    "\n",
    "1. Create a list `zeros` containing only **zeros**, with 32 elements.\n",
    "2. Create a list `odd` containing all **odd numbers** between 0 and 64.\n",
    "3. Create a table `zeros_matrix` of size 4x3 (4 rows, 3 columns) with **zeros** in all entries. A matrix (table) is represented as a list of lists, where each **inner list** represents a **row** of the table.\n",
    "    For example, a table\n",
    "    $A =\\begin{bmatrix}\n",
    "    1 & 2 \\\\\\\n",
    "    3 & 4\n",
    "    \\end{bmatrix}$\n",
    "\n",
    "    would be represented as `A = [[1, 2], [3, 4]]`\n",
    "4. Create a matrix `eye` of size 8x8 (8 rows, 8 columns) with **ones** on the diagonal and **zeros** elsewhere. Refer to the example above for how to represent a matrix as a list of lists."
   ]
  },
  {
   "cell_type": "code",
   "execution_count": 18,
   "id": "4092b982c08d84fe",
   "metadata": {},
   "outputs": [
    {
     "name": "stdout",
     "output_type": "stream",
     "text": [
      "[0, 0, 0, 0, 0, 0, 0, 0, 0, 0, 0, 0, 0, 0, 0, 0, 0, 0, 0, 0, 0, 0, 0, 0, 0, 0, 0, 0, 0, 0, 0, 0]\n",
      "32\n"
     ]
    }
   ],
   "source": [
    "zeros = []\n",
    "for i in range(32):\n",
    "    zeros.append(0)\n",
    "# print function is used to display the contents of a variable\n",
    "print(zeros)\n",
    "print(len(zeros))"
   ]
  },
  {
   "cell_type": "code",
   "execution_count": 16,
   "id": "cafce38f-1d3a-470b-8418-c451cd36927b",
   "metadata": {},
   "outputs": [
    {
     "name": "stdout",
     "output_type": "stream",
     "text": [
      "[0, 0, 0, 0, 0, 0, 0, 0, 0, 0, 0, 0, 0, 0, 0, 0, 0, 0, 0, 0, 0, 0, 0, 0, 0, 0, 0, 0, 0, 0, 0, 0]\n",
      "32\n"
     ]
    }
   ],
   "source": [
    "zeros = [0]*32\n",
    "\n",
    "# print function is used to display the contents of a variable\n",
    "print(zeros)\n",
    "print(len(zeros))"
   ]
  },
  {
   "cell_type": "code",
   "execution_count": 17,
   "id": "6c0fb3b4449d7199",
   "metadata": {},
   "outputs": [
    {
     "name": "stdout",
     "output_type": "stream",
     "text": [
      "[1, 3, 5, 7, 9, 11, 13, 15, 17, 19, 21, 23, 25, 27, 29, 31, 33, 35, 37, 39, 41, 43, 45, 47, 49, 51, 53, 55, 57, 59, 61, 63]\n",
      "32\n"
     ]
    }
   ],
   "source": [
    "odd = []\n",
    "\n",
    "for i in range(32):\n",
    "    odd.append(2*i+1)\n",
    "\n",
    "print(odd)\n",
    "print(len(zeros))"
   ]
  },
  {
   "cell_type": "code",
   "execution_count": 6,
   "id": "668c7ea2-5621-40f6-ab83-b56e7489f5df",
   "metadata": {},
   "outputs": [
    {
     "name": "stdout",
     "output_type": "stream",
     "text": [
      "[1, 3, 5, 7, 9, 11, 13, 15, 17, 19, 21, 23, 25, 27, 29, 31, 33, 35, 37, 39, 41, 43, 45, 47, 49, 51, 53, 55, 57, 59, 61, 63]\n"
     ]
    }
   ],
   "source": [
    "odd = []\n",
    "#wariant z #\n",
    "for i in range(32):\n",
    "    odd.append(2*i+1)\n",
    "\n",
    "print(odd)"
   ]
  },
  {
   "cell_type": "code",
   "execution_count": 13,
   "id": "cb946090b1226e73",
   "metadata": {},
   "outputs": [
    {
     "name": "stdout",
     "output_type": "stream",
     "text": [
      "[[0, 0, 0], [0, 0, 0], [0, 0, 0], [0, 0, 0]]\n"
     ]
    }
   ],
   "source": [
    "zeros_matrix = []\n",
    "\n",
    "for i in range(4):\n",
    "     zeros_matrix.append([0,0,0])\n",
    "\n",
    "print(zeros_matrix)"
   ]
  },
  {
   "cell_type": "code",
   "execution_count": null,
   "id": "610b40a7-b6d8-4f60-be71-fdc3683329d0",
   "metadata": {},
   "outputs": [],
   "source": [
    "zeros_matrix = []\n",
    "\n",
    "for i in range(4):\n",
    "    \n",
    "   \n",
    "\n",
    "print(zeros_matrix)"
   ]
  },
  {
   "cell_type": "code",
   "execution_count": null,
   "id": "a0e5f07f09c5f767",
   "metadata": {},
   "outputs": [],
   "source": [
    "eye = ...\n",
    "\n",
    "print(eye)"
   ]
  },
  {
   "cell_type": "markdown",
   "id": "9fd8e4bb5d508ff0",
   "metadata": {},
   "source": [
    "---\n",
    "\n",
    "In the next exercise you may need to use functions from the [math module](https://docs.python.org/3/library/math.html) of the standard Python library. To access a function from a module, you first need to **import** the module. For example, to use the `factorial` function from the `math` module, you would write something like this:\n",
    "\n",
    "    import math\n",
    "    result = math.factorial(5)  # This will calculate 5!\n",
    "\n",
    "You can find a list of all functions in the `math` module in the documentation linked above. It's a good idea to familiarize yourself with the concept of studying code documentation, as it will be useful in our little journey later on.\n",
    "\n",
    "## Exercise 2: Python functions (2 points)\n",
    "\n",
    "1. Write a function `get_median` that takes a list of numbers (floats) as input and returns **the median** of the numbers. If the sample has an odd number of numbers, the median is the middle value. If the sample has an even number of numbers, the median is the arithmetic mean of the two middle values. The result should be rounded to 3 decimal places.\n",
    "\n",
    "2. Write a function `get_euler` that takes an integer `n` as input and returns an approximation to **the mathematical constant e** (Euler's number) calculated using the following formula:\n",
    "   $$ e = \\sum_{i=0}^{n} \\frac{1}{i!} $$\n",
    "The result should be rounded to 10 decimal places.\n"
   ]
  },
  {
   "cell_type": "code",
   "execution_count": null,
   "id": "ddeb67cc919131b5",
   "metadata": {},
   "outputs": [],
   "source": [
    "from helpers.lab1 import test_median\n",
    "\n",
    "numbers = []\n",
    "\n",
    "def get_median(numbers):\n",
    "    numbers_ordered = []\n",
    "    max_number = numbers[0]\n",
    "    for i in range (len(numbers)):\n",
    "        if numbers[i] >= numbers[i+1]:\n",
    "            numbers_ordered[i] = numbers[i]\n",
    "        else:\n",
    "            numbers[i]\n",
    "            \n",
    "# You can use the following code to test your function\n",
    "test_median(get_median)"
   ]
  },
  {
   "cell_type": "code",
   "execution_count": 21,
   "id": "6b832de9-022f-466b-b3e9-01b607680801",
   "metadata": {},
   "outputs": [
    {
     "ename": "AssertionError",
     "evalue": "Expected an int or float, but got <class 'NoneType'> as output",
     "output_type": "error",
     "traceback": [
      "\u001b[31m---------------------------------------------------------------------------\u001b[39m",
      "\u001b[31mAssertionError\u001b[39m                            Traceback (most recent call last)",
      "\u001b[36mCell\u001b[39m\u001b[36m \u001b[39m\u001b[32mIn[21]\u001b[39m\u001b[32m, line 17\u001b[39m\n\u001b[32m     15\u001b[39m         median = numbers[mid_number]\n\u001b[32m     16\u001b[39m \u001b[38;5;66;03m# You can use the following code to test your function\u001b[39;00m\n\u001b[32m---> \u001b[39m\u001b[32m17\u001b[39m \u001b[43mtest_median\u001b[49m\u001b[43m(\u001b[49m\u001b[43mget_median\u001b[49m\u001b[43m)\u001b[49m\n",
      "\u001b[36mFile \u001b[39m\u001b[32m~\\Desktop\\studia\\IV_rok\\PUM\\pum-25\\helpers\\lab1.py:18\u001b[39m, in \u001b[36mtest_median\u001b[39m\u001b[34m(foo)\u001b[39m\n\u001b[32m     15\u001b[39m \u001b[38;5;28;01mfor\u001b[39;00m x, y \u001b[38;5;129;01min\u001b[39;00m \u001b[38;5;28mzip\u001b[39m(test_inputs, test_outputs):\n\u001b[32m     17\u001b[39m     \u001b[38;5;28;01mif\u001b[39;00m \u001b[38;5;28mtype\u001b[39m(foo(x)) \u001b[38;5;129;01mnot\u001b[39;00m \u001b[38;5;129;01min\u001b[39;00m [\u001b[38;5;28mint\u001b[39m, \u001b[38;5;28mfloat\u001b[39m]:\n\u001b[32m---> \u001b[39m\u001b[32m18\u001b[39m         \u001b[38;5;28;01mraise\u001b[39;00m \u001b[38;5;167;01mAssertionError\u001b[39;00m(\u001b[33mf\u001b[39m\u001b[33m'\u001b[39m\u001b[33mExpected an int or float, but got \u001b[39m\u001b[38;5;132;01m{\u001b[39;00m\u001b[38;5;28mtype\u001b[39m(foo(x))\u001b[38;5;132;01m}\u001b[39;00m\u001b[33m as output\u001b[39m\u001b[33m'\u001b[39m)\n\u001b[32m     20\u001b[39m     \u001b[38;5;28;01mif\u001b[39;00m foo(x) != y:\n\u001b[32m     21\u001b[39m         \u001b[38;5;28;01mraise\u001b[39;00m \u001b[38;5;167;01mAssertionError\u001b[39;00m(\u001b[33mf\u001b[39m\u001b[33m'\u001b[39m\u001b[33mExpected \u001b[39m\u001b[38;5;132;01m{\u001b[39;00my\u001b[38;5;132;01m}\u001b[39;00m\u001b[33m, but got \u001b[39m\u001b[38;5;132;01m{\u001b[39;00mfoo(x)\u001b[38;5;132;01m}\u001b[39;00m\u001b[33m for \u001b[39m\u001b[38;5;132;01m{\u001b[39;00mx\u001b[38;5;132;01m}\u001b[39;00m\u001b[33m'\u001b[39m)\n",
      "\u001b[31mAssertionError\u001b[39m: Expected an int or float, but got <class 'NoneType'> as output"
     ]
    }
   ],
   "source": [
    "from helpers.lab1 import test_median \n",
    "import math\n",
    "\n",
    "numbers = [2, 3, 4]\n",
    "\n",
    "def get_median(numbers):\n",
    "    numbers = sorted(numbers)\n",
    "    list_len = len(numbers)\n",
    "    if list_len%2 == 0:\n",
    "        lower_number_index = int(list_len/2) - 1\n",
    "        higher_number_index = int(list_len/2)\n",
    "        median = numbers[(lower_number_index + higher_number_index)/2]\n",
    "    else:\n",
    "        mid_number = math.floor(list_len/2)\n",
    "        median = numbers[mid_number]\n",
    "# You can use the following code to test your function\n",
    "test_median(get_median)"
   ]
  },
  {
   "cell_type": "code",
   "execution_count": 25,
   "id": "d2bcb3e8343c0cc8",
   "metadata": {},
   "outputs": [
    {
     "ename": "UnboundLocalError",
     "evalue": "cannot access local variable 'euler' where it is not associated with a value",
     "output_type": "error",
     "traceback": [
      "\u001b[31m---------------------------------------------------------------------------\u001b[39m",
      "\u001b[31mUnboundLocalError\u001b[39m                         Traceback (most recent call last)",
      "\u001b[36mCell\u001b[39m\u001b[36m \u001b[39m\u001b[32mIn[25]\u001b[39m\u001b[32m, line 13\u001b[39m\n\u001b[32m      9\u001b[39m     \u001b[38;5;28;01mreturn\u001b[39;00m euler\n\u001b[32m     12\u001b[39m \u001b[38;5;66;03m# You can use the following code to test your function\u001b[39;00m\n\u001b[32m---> \u001b[39m\u001b[32m13\u001b[39m \u001b[43mtest_euler\u001b[49m\u001b[43m(\u001b[49m\u001b[43mget_euler\u001b[49m\u001b[43m)\u001b[49m\n",
      "\u001b[36mFile \u001b[39m\u001b[32m~\\Desktop\\studia\\IV_rok\\PUM\\pum-25\\helpers\\lab1.py:37\u001b[39m, in \u001b[36mtest_euler\u001b[39m\u001b[34m(foo)\u001b[39m\n\u001b[32m     27\u001b[39m test_dict = {\n\u001b[32m     28\u001b[39m     \u001b[32m0\u001b[39m: \u001b[32m1\u001b[39m,\n\u001b[32m     29\u001b[39m     \u001b[32m1\u001b[39m: \u001b[32m2\u001b[39m,\n\u001b[32m   (...)\u001b[39m\u001b[32m     33\u001b[39m     \u001b[32m100\u001b[39m: \u001b[32m2.7182818285\u001b[39m\n\u001b[32m     34\u001b[39m }\n\u001b[32m     36\u001b[39m \u001b[38;5;28;01mfor\u001b[39;00m key, value \u001b[38;5;129;01min\u001b[39;00m test_dict.items():\n\u001b[32m---> \u001b[39m\u001b[32m37\u001b[39m     \u001b[38;5;28;01mif\u001b[39;00m \u001b[38;5;28mround\u001b[39m(\u001b[43mfoo\u001b[49m\u001b[43m(\u001b[49m\u001b[43mkey\u001b[49m\u001b[43m)\u001b[49m, \u001b[32m10\u001b[39m) != value:\n\u001b[32m     38\u001b[39m         \u001b[38;5;28;01mraise\u001b[39;00m \u001b[38;5;167;01mAssertionError\u001b[39;00m(\u001b[33mf\u001b[39m\u001b[33m'\u001b[39m\u001b[33mExpected \u001b[39m\u001b[38;5;132;01m{\u001b[39;00mvalue\u001b[38;5;132;01m}\u001b[39;00m\u001b[33m, but got \u001b[39m\u001b[38;5;132;01m{\u001b[39;00mfoo(key)\u001b[38;5;132;01m}\u001b[39;00m\u001b[33m for n = \u001b[39m\u001b[38;5;132;01m{\u001b[39;00mkey\u001b[38;5;132;01m}\u001b[39;00m\u001b[33m'\u001b[39m)\n\u001b[32m     40\u001b[39m \u001b[38;5;28mprint\u001b[39m(\u001b[33m'\u001b[39m\u001b[33mSeems OK!\u001b[39m\u001b[33m'\u001b[39m)\n",
      "\u001b[36mCell\u001b[39m\u001b[36m \u001b[39m\u001b[32mIn[25]\u001b[39m\u001b[32m, line 9\u001b[39m, in \u001b[36mget_euler\u001b[39m\u001b[34m(n)\u001b[39m\n\u001b[32m      7\u001b[39m \u001b[38;5;28;01mfor\u001b[39;00m i \u001b[38;5;129;01min\u001b[39;00m \u001b[38;5;28mrange\u001b[39m(n):\n\u001b[32m      8\u001b[39m     euler = \u001b[38;5;28msum\u001b[39m(\u001b[32m1\u001b[39m/factorial(i))\n\u001b[32m----> \u001b[39m\u001b[32m9\u001b[39m \u001b[38;5;28;01mreturn\u001b[39;00m \u001b[43meuler\u001b[49m\n",
      "\u001b[31mUnboundLocalError\u001b[39m: cannot access local variable 'euler' where it is not associated with a value"
     ]
    }
   ],
   "source": [
    "from helpers.lab1 import test_euler\n",
    "import math\n",
    "\n",
    "euler = float('nan')\n",
    "\n",
    "def get_euler(n):\n",
    "    for i in range(n):\n",
    "        euler = sum(1/factorial(i))\n",
    "    return euler\n",
    "    \n",
    "\n",
    "# You can use the following code to test your function\n",
    "test_euler(get_euler)"
   ]
  },
  {
   "cell_type": "markdown",
   "id": "5e999ec729edd56b",
   "metadata": {},
   "source": [
    "### *Python type hinting\n",
    "\n",
    "It is a good practice to use Python type hints when defining functions. Type hints are a way to specify the expected types of the function arguments and the return value. This can help you catch bugs early and make your code easier to understand. For example, the function `get_median` can be defined as follows:\n",
    "```python\n",
    "def get_median(numbers: list[float]) -> float:\n",
    "    # This function takes a list of floats as input and returns a float\n",
    "    ...\n",
    "```\n",
    "Python ignores these type hints, so they do not affect the performance of your code. However, they are an elegant way to document your code and make it more readable. By just looking at the definition, you can quickly understand what the function does and what kind of arguments it expects, thus making it easier to include your functions in larger projects. You can read more about type hints in the [official Python documentation](https://docs.python.org/3/library/typing.html)."
   ]
  },
  {
   "cell_type": "markdown",
   "id": "d92409835a71a7d3",
   "metadata": {},
   "source": [
    "---\n",
    "\n",
    "## Quick introduction to the Python `random` module\n",
    "\n",
    "The Python standard library includes a module called `random` that provides functions for generating pseudorandom numbers. To complete the exercises in this notebook, you may want to learn the following functions:"
   ]
  },
  {
   "cell_type": "code",
   "execution_count": 29,
   "id": "650e5fb04cbacd72",
   "metadata": {},
   "outputs": [
    {
     "name": "stdout",
     "output_type": "stream",
     "text": [
      "The output of random.random() is: 0.7879667881783629\n",
      "The output of random.randint(0, 100) is: 9\n"
     ]
    }
   ],
   "source": [
    "import random\n",
    "\n",
    "random.random() # returns a random float between 0 and 1\n",
    "print('The output of random.random() is:', random.random())\n",
    "\n",
    "random.randint(0, 100) # returns a random integer between 0 and 100\n",
    "print('The output of random.randint(0, 100) is:', random.randint(0, 100))"
   ]
  },
  {
   "cell_type": "code",
   "execution_count": 33,
   "id": "13c4656b0b0f2178",
   "metadata": {},
   "outputs": [
    {
     "name": "stdout",
     "output_type": "stream",
     "text": [
      "Tonight we will watch ['How High']\n"
     ]
    }
   ],
   "source": [
    "movies = [\n",
    "    'Taxi Driver',\n",
    "    'Cars 3',\n",
    "    'How High',\n",
    "    'The Seventh Seal',\n",
    "    'Mean Girls',\n",
    "]\n",
    "\n",
    "random_movie = random.choices(movies, k=1) # returns k random elements from the list (as a list)\n",
    "print('Tonight we will watch', random_movie)"
   ]
  },
  {
   "cell_type": "code",
   "execution_count": 28,
   "id": "7df67ce032942feb",
   "metadata": {},
   "outputs": [
    {
     "ename": "NameError",
     "evalue": "name 'random' is not defined",
     "output_type": "error",
     "traceback": [
      "\u001b[31m---------------------------------------------------------------------------\u001b[39m",
      "\u001b[31mNameError\u001b[39m                                 Traceback (most recent call last)",
      "\u001b[36mCell\u001b[39m\u001b[36m \u001b[39m\u001b[32mIn[28]\u001b[39m\u001b[32m, line 12\u001b[39m\n\u001b[32m      9\u001b[39m movies = \u001b[38;5;28mlist\u001b[39m(movie_preferences.keys()) \u001b[38;5;66;03m# list of movies\u001b[39;00m\n\u001b[32m     10\u001b[39m probabilities = \u001b[38;5;28mlist\u001b[39m(movie_preferences.values()) \u001b[38;5;66;03m# list of probabilities\u001b[39;00m\n\u001b[32m---> \u001b[39m\u001b[32m12\u001b[39m \u001b[43mrandom\u001b[49m.choices(population=movies, weights=probabilities, k=\u001b[32m1\u001b[39m) \u001b[38;5;66;03m# returns k random elements from the list based on the probabilities given in a separate list\u001b[39;00m\n\u001b[32m     13\u001b[39m \u001b[38;5;28mprint\u001b[39m(\u001b[33m'\u001b[39m\u001b[33mEww, I would rather watch\u001b[39m\u001b[33m'\u001b[39m, random.choices(movies, probabilities))\n",
      "\u001b[31mNameError\u001b[39m: name 'random' is not defined"
     ]
    }
   ],
   "source": [
    "movie_preferences = {\n",
    "    'Taxi Driver': 0.1,\n",
    "    'Cars 3': 0.4,\n",
    "    'How High': 0.2,\n",
    "    'The Seventh Seal': 0,\n",
    "    'Mean Girls': 0.3\n",
    "}\n",
    "\n",
    "movies = list(movie_preferences.keys()) # list of movies\n",
    "probabilities = list(movie_preferences.values()) # list of probabilities\n",
    "\n",
    "random.choices(population=movies, weights=probabilities, k=1) # returns k random elements from the list based on the probabilities given in a separate list\n",
    "print('Eww, I would rather watch', random.choices(movies, probabilities))"
   ]
  },
  {
   "cell_type": "markdown",
   "id": "18991c0dc043bc68",
   "metadata": {},
   "source": [
    "## Classes in Python\n",
    "**Object-oriented programming (OOP)** is a programming paradigm that uses classes and objects to organize code. An **object** is a handy piece of code that contains:\n",
    "- Some data (attributes)\n",
    "- Some functions (methods) that operate on that data\n",
    "It often makes sense to group related data and functions together into objects. You will see many examples of this during the course.\n",
    "\n",
    "A **class** is a blueprint for creating objects. It defines the attributes and methods that the objects of that class will have. Once you have defined a class, you can create multiple objects (instances) of that class, each with its own unique data. See the example below:"
   ]
  },
  {
   "cell_type": "code",
   "execution_count": null,
   "id": "94e6641f67319050",
   "metadata": {},
   "outputs": [],
   "source": [
    "class Cow:\n",
    "    def __init__(self, name):\n",
    "        \"\"\"Initializer (constructor) method for the Cow class.\n",
    "        The __init__ method is called when a new object of the class is created.\n",
    "        It is used to set up the initial state of the object by initializing its attributes.\n",
    "        In this case, we are initializing the 'name' attribute of the Cow object.\"\"\"\n",
    "\n",
    "        self.name = name # this is an attribute\n",
    "\n",
    "    def moo(self):\n",
    "        \"\"\"\n",
    "        Methods are functions that belong to a class. They take 'self' as the first parameter,\n",
    "        which refers to the instance of the class. A method can access and modify the attributes\n",
    "        of the object. This method accesses the name of the cow and returns a string with the\n",
    "        cow's moo sound.\n",
    "        \"\"\"\n",
    "        return f'{self.name} says Moo!'\n",
    "\n",
    "    def eat(self, food):\n",
    "        \"\"\"\n",
    "        This method takes an additional parameter 'food' and returns a string indicating\n",
    "        what the cow is eating.\n",
    "        \"\"\"\n",
    "        return f'{self.name} is eating {food}'"
   ]
  },
  {
   "cell_type": "code",
   "execution_count": null,
   "id": "4d00cf0b31f0787c",
   "metadata": {},
   "outputs": [],
   "source": [
    "cow_1 = Cow(name='Michelle') # creating an object (instance) of the Cow class\n",
    "cow_2 = Cow(name='Angelica') # creating another object (instance) of the Cow class\n",
    "\n",
    "print(cow_1.moo()) # calling the moo method on cow_1\n",
    "print(cow_2.eat('grass')) # calling the eat method on cow_2\n",
    "\n",
    "# accessing the attributes of the objects\n",
    "print(f'{cow_1.name} and {cow_2.name} are friends')"
   ]
  },
  {
   "cell_type": "markdown",
   "id": "b3e47775ee954bc",
   "metadata": {},
   "source": [
    "## Exercise 3: Rolling dice  (2 points)\n",
    "```\n",
    "       .-------.    ______\n",
    "      /   o   /|   /\\     \\\n",
    "     /_______/o|  /o \\  o  \\\n",
    "     | o     | | /   o\\_____\\\n",
    "     |   o   |o/ \\o   /o    /\n",
    "     |     o |/   \\ o/  o  /\n",
    "     '-------'     \\/____o/     Art by Joan G. Stark\n",
    "```\n",
    "Implement `UnfairDie`, a class representing an unfair six-sided die (one that does not have an equal probability of landing on each of its sides).\n",
    "\n",
    "**The probabilities of rolling each face should be set by the user when creating a die object** by passing a parameter `probs`, a list of six positive floats summing to one (as probabilities should).\n",
    "\n",
    "You can create the `__init__` method to take the `probs` parameter and save it to an attribute `self.probs`. The `__init__` method, known as a **constructor**, is called only once when an object is created. It is a good place to set the initial state of the object.\n",
    "\n",
    "The class should implement the following methods:\n",
    "- `roll(self, n) -> int`: simulates rolling $n$ identical dice and returns the results as a list of integers.\n",
    "- `get_average(self, n) -> float`: returns the mean result of rolling $n$ dice."
   ]
  },
  {
   "cell_type": "code",
   "execution_count": null,
   "id": "40a4e78a67f97075",
   "metadata": {},
   "outputs": [],
   "source": [
    "class UnfairDie:\n",
    "    def __init__(self, probs):\n",
    "        self.probs = probs\n",
    "        probs = {\n",
    "            \"1\": 0.1\n",
    "            \"2\": 0.2\n",
    "            \"3\": 0.3\n",
    "            \"4\": 0.2\n",
    "            \"5\": 0.1\n",
    "            \"6\": 0.1\n",
    "            }\n",
    "# jednak nie musimy tych probs tutaj tylko każdy sobie sam przy wywoływaniu określa to\n",
    "\n",
    "    def roll(self, n: int) -> list[int]:\n",
    "        ...\n",
    "\n",
    "    def get_average(self, n: int) -> float:\n",
    "        ..."
   ]
  },
  {
   "cell_type": "code",
   "execution_count": 35,
   "id": "785d5c2a-fc30-43a8-88f1-98e6e48bc373",
   "metadata": {},
   "outputs": [
    {
     "ename": "SyntaxError",
     "evalue": "invalid syntax (3444047302.py, line 15)",
     "output_type": "error",
     "traceback": [
      "  \u001b[36mCell\u001b[39m\u001b[36m \u001b[39m\u001b[32mIn[35]\u001b[39m\u001b[32m, line 15\u001b[39m\n\u001b[31m    \u001b[39m\u001b[31mdef get_average(self, n: int) -> float:\u001b[39m\n    ^\n\u001b[31mSyntaxError\u001b[39m\u001b[31m:\u001b[39m invalid syntax\n"
     ]
    }
   ],
   "source": [
    "class UnfairDie:\n",
    "    def __init__(self, probs):\n",
    "        self.probs = probs\n",
    "        probs = {\n",
    "            \"1\": 0.1,\n",
    "            \"2\": 0.2,\n",
    "            \"3\": 0.3,\n",
    "            \"4\": 0.2,\n",
    "            \"5\": 0.1,\n",
    "            \"6\": 0.1\n",
    "            }\n",
    "\n",
    "    def roll(self, n: int) -> list[int]:\n",
    "        return random.choices(population[1,2,3,4,5,6], weightself(f.probs, k=n)\n",
    "    def get_average(self, n: int) -> float:\n",
    "        rolls = self.roll(n)\n",
    "        return sum(rolls/len(rolls)"
   ]
  },
  {
   "cell_type": "code",
   "execution_count": null,
   "id": "9de2cc0d6032175e",
   "metadata": {},
   "outputs": [],
   "source": [
    "# test your implementation\n",
    "\n",
    "die = UnfairDie(probs=[0.1, 0.2, 0.3, 0.1, 0.2, 0.1])\n",
    "print('Rolling 5 dice:', die.roll(5))\n",
    "print('Average of rolling 100 dice:', die.get_average(100))"
   ]
  },
  {
   "cell_type": "markdown",
   "id": "af30da377646c952",
   "metadata": {},
   "source": [
    "## *Python dunder methods\n",
    "\n",
    "We have already encountered some special methods in Python, such as `__init__(self, args)`, which is called only once when an object is created. These methods are called dunder methods (short for *double underscore*). They are used to define how objects of a class behave when they are used in conjunction with built-in Python functions.\n",
    "\n",
    "For example, the `__str__(self)` method is called when an object is passed to the `print` function. If you want to define how your object should be represented as a string, you can implement this method in your class. Here is an example:"
   ]
  },
  {
   "cell_type": "code",
   "execution_count": null,
   "id": "2a1f18220f1026b7",
   "metadata": {},
   "outputs": [],
   "source": [
    "# Example of using __str__()\n",
    "\n",
    "class Cow:\n",
    "    def __init__(self, name):\n",
    "        self.name = name # Setting the name of the cow\n",
    "\n",
    "    def __str__(self):\n",
    "        cow_art = (\n",
    "        rf\"\"\"\n",
    "        This is a cow named {self.name}:\n",
    "        ^__^\n",
    "        (oo)\\_______\n",
    "        (__)\\       )\\/\\\n",
    "            ||----w |\n",
    "            ||     ||\n",
    "        \"\"\"\n",
    "        )\n",
    "        return cow_art.strip() # The strip() method is for aesthetic purposes\n",
    "\n",
    "cow = Cow('Angelica')\n",
    "\n",
    "# The print function calls the __str__() method!\n",
    "print(cow)"
   ]
  },
  {
   "cell_type": "markdown",
   "id": "aca814d0c8e4404",
   "metadata": {},
   "source": [
    "Dunder methods are a powerful tool in Python that allows you to use your custom classes in any code that was prepared to work with built-in Python objects. You just have to implement the right dunder methods in your class.\n",
    "\n",
    "Other useful dunder methods:\n",
    "- `__call__(self)`: makes an object callable. It is executed when the object is called as a function.\n",
    "- `__add__(self, other)`: called by the `+` operator. It should return the sum of two objects (*whatever that means for your particular class*).\n",
    "- `__mul__(self, other)`: called by the `*` operator. It should return the product of two objects).\n",
    "- `__len__(self)`: called by the `len` function. It should return the length of the object).\n",
    "- `__eq__(self, other)`: called by the `==` operator. It should return `True` if two objects are equal.\n",
    "- `__getitem__(self, key)`: called to get an item from the object using square brackets. It should return the item at the given key (*useful if your class is a data-related*).\n",
    "\n",
    "There are many other dunder methods that you can implement in your classes. You can find a list of them [here](https://docs.python.org/3/reference/datamodel.html#special-method-names).\n",
    "\n",
    "---"
   ]
  },
  {
   "cell_type": "markdown",
   "id": "3d16f537fbc879cf",
   "metadata": {},
   "source": [
    "## Exercise 4: Plotting averages of dice rolls (2 points)\n",
    "\n",
    "1. Conduct an experiment where you roll $n$ = 1, 2, 10, 100 fair dice and take note of the average outcome 1000 times in a row. Store the results for each number $n$ of dice in separate lists. Plot a histogram of the results for each value of $n$ using the `plot_dice` function.\n",
    "\n",
    "    > The function `plot_dice` was already implemented by me and can be used out of the box. It takes a list of numbers and plots an appropriate histogram. You will learn how to prepare plots like this with seaborn and pyplot during the next labs.\n",
    "\n",
    "2. What shape does this distribution converge to as the number of dice $n$ increases? Conduct the same experiment for unfair dice with probabilities $[0.25, 0.1, 0.05, 0.15, 0.1, 0.35]$ and try to draw some conclusions regarding the distributions of averages."
   ]
  },
  {
   "cell_type": "code",
   "execution_count": null,
   "id": "2654fee1e3c3bfb7",
   "metadata": {},
   "outputs": [],
   "source": [
    "averages_1 = ...\n",
    "averages_2 = ...\n",
    "averages_10 = ...\n",
    "averages_100 = ..."
   ]
  },
  {
   "cell_type": "code",
   "execution_count": null,
   "id": "40161e52f02318bb",
   "metadata": {},
   "outputs": [],
   "source": [
    "from helpers.plotting import plot_hist\n",
    "\n",
    "plot_hist(averages_1) # plot histogram of averages for n=1 dice"
   ]
  }
 ],
 "metadata": {
  "kernelspec": {
   "display_name": "Python 3 (ipykernel)",
   "language": "python",
   "name": "python3"
  },
  "language_info": {
   "codemirror_mode": {
    "name": "ipython",
    "version": 3
   },
   "file_extension": ".py",
   "mimetype": "text/x-python",
   "name": "python",
   "nbconvert_exporter": "python",
   "pygments_lexer": "ipython3",
   "version": "3.11.13"
  }
 },
 "nbformat": 4,
 "nbformat_minor": 5
}
